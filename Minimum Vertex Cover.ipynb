{
 "cells": [
  {
   "cell_type": "code",
   "execution_count": 1,
   "metadata": {},
   "outputs": [],
   "source": [
    "import random\n",
    "import networkx as nx\n",
    "# Generate input for minimum vertex cover\n",
    "def generate_undirected(num_vertices, num_edges):\n",
    "    if(num_edges > ((num_vertices*(num_vertices-1))/2)):\n",
    "        print(\"The number of edges exceeds the maximum limit.\")\n",
    "        return None\n",
    "    graph = nx.Graph()\n",
    "    for vertex in range(num_vertices):\n",
    "        graph.add_node(vertex)\n",
    "    while(len(graph.edges()) < num_edges):\n",
    "        source = random.randint(0, num_vertices-1)\n",
    "        destination = random.randint(0, num_vertices-1)\n",
    "        if(source != destination):\n",
    "            graph.add_edge(source, destination)   \n",
    "    return graph\n",
    "\n",
    "def minimum_vertex_cover(graph, verbose=True):\n",
    "    edges = graph.edges()\n",
    "    cover_set = set()\n",
    "    for edge in edges:\n",
    "        if((edge[0] in cover_set) or (edge[1] in cover_set)):\n",
    "            continue\n",
    "        if(verbose):\n",
    "            print('Edge from this step is ', edge)\n",
    "        cover_set.add(edge[0])\n",
    "        cover_set.add(edge[1])\n",
    "    return cover_set"
   ]
  },
  {
   "cell_type": "code",
   "execution_count": 2,
   "metadata": {},
   "outputs": [
    {
     "name": "stdout",
     "output_type": "stream",
     "text": [
      "G :  [(0, 4), (0, 5), (0, 1), (0, 3), (0, 2), (1, 4), (2, 3), (3, 5)]\n",
      "Edge from this step is  (0, 4)\n",
      "Edge from this step is  (2, 3)\n",
      "Minimum vertex Cover is :  {0, 2, 3, 4}\n"
     ]
    }
   ],
   "source": [
    "try:\n",
    "    graph = generate_undirected(6,8)\n",
    "    print(\"G : \", graph.edges())\n",
    "    v = minimum_vertex_cover(graph)\n",
    "    print(\"Minimum vertex Cover is : \", v)\n",
    "except:\n",
    "    print(\"Error\")"
   ]
  },
  {
   "cell_type": "code",
   "execution_count": 3,
   "metadata": {},
   "outputs": [
    {
     "name": "stdout",
     "output_type": "stream",
     "text": [
      "G :  [(1, 5), (5, 2), (5, 0), (5, 3), (5, 4)]\n",
      "Edge from this step is  (1, 5)\n",
      "Minimum vertex Cover is :  {1, 5}\n"
     ]
    }
   ],
   "source": [
    "# Tight Example\n",
    "try:\n",
    "    graph = nx.Graph()\n",
    "    graph.add_edges_from([(1,5),(2,5),(0,5),(3,5),(4,5)])\n",
    "    print(\"G : \", graph.edges())\n",
    "    v = minimum_vertex_cover(graph)\n",
    "    print(\"Minimum vertex Cover is : \", v)\n",
    "except:\n",
    "    print(\"Error\")"
   ]
  },
  {
   "cell_type": "code",
   "execution_count": 4,
   "metadata": {},
   "outputs": [
    {
     "name": "stdout",
     "output_type": "stream",
     "text": [
      "G :  [(0, 1), (0, 3), (1, 2), (2, 3)]\n",
      "Edge from this step is  (0, 1)\n",
      "Edge from this step is  (2, 3)\n",
      "Minimum vertex Cover is :  {0, 1, 2, 3}\n"
     ]
    }
   ],
   "source": [
    "try:\n",
    "    graph = nx.Graph()\n",
    "    graph.add_edges_from([(0,1),(1,2),(2,3),(3,0)])\n",
    "    print(\"G : \", graph.edges())\n",
    "    v = minimum_vertex_cover(graph)\n",
    "    print(\"Minimum vertex Cover is : \", v)\n",
    "except:\n",
    "    print(\"Error\")"
   ]
  },
  {
   "cell_type": "code",
   "execution_count": 5,
   "metadata": {},
   "outputs": [],
   "source": [
    "from collections import Counter\n",
    "def edges_to_str(edges, visited_set):\n",
    "    res = []\n",
    "    for edge in edges:\n",
    "        if((not(edge[0] in visited_set)) and (not(edge[1] in visited_set))):\n",
    "            res += [str(edge[0]), str(edge[1])]\n",
    "    return tuple(res)\n",
    "def using_counter(graph, verbose=True):\n",
    "    visited_set = set()\n",
    "    edges = graph.edges()\n",
    "    res = edges_to_str(edges, visited_set)\n",
    "    while(res != ()):\n",
    "        counter = Counter(res)\n",
    "        most_common = counter.most_common(1)\n",
    "        visited_set.add(int(most_common[0][0]))\n",
    "        if(verbose):\n",
    "            print(\"Removed vertex in this step : \", int(most_common[0][0]))\n",
    "        res = edges_to_str(edges, visited_set)\n",
    "    return visited_set"
   ]
  },
  {
   "cell_type": "code",
   "execution_count": 6,
   "metadata": {},
   "outputs": [
    {
     "name": "stdout",
     "output_type": "stream",
     "text": [
      "G :  [(0, 5), (0, 1), (0, 4), (0, 2), (1, 2), (2, 3), (2, 4), (3, 4)]\n",
      "Removed vertex in this step :  0\n",
      "Removed vertex in this step :  2\n",
      "Removed vertex in this step :  3\n",
      "Minimum vertex Cover is :  {0, 2, 3}\n"
     ]
    }
   ],
   "source": [
    "try:\n",
    "    graph = generate_undirected(6,8)\n",
    "    print(\"G : \", graph.edges())\n",
    "    v = using_counter(graph)\n",
    "    print(\"Minimum vertex Cover is : \", v)\n",
    "except:\n",
    "    print(\"Error\")"
   ]
  },
  {
   "cell_type": "code",
   "execution_count": 7,
   "metadata": {},
   "outputs": [
    {
     "name": "stdout",
     "output_type": "stream",
     "text": [
      "G :  [(1, 5), (5, 2), (5, 0), (5, 3), (5, 4)]\n",
      "Removed vertex in this step :  5\n",
      "Minimum vertex Cover is :  {5}\n"
     ]
    }
   ],
   "source": [
    "try:\n",
    "    graph = nx.Graph()\n",
    "    graph.add_edges_from([(1,5),(2,5),(0,5),(3,5),(4,5)])\n",
    "    print(\"G : \", graph.edges())\n",
    "    v = using_counter(graph)\n",
    "    print(\"Minimum vertex Cover is : \", v)\n",
    "except:\n",
    "    print(\"Error\")"
   ]
  },
  {
   "cell_type": "code",
   "execution_count": 8,
   "metadata": {},
   "outputs": [
    {
     "name": "stdout",
     "output_type": "stream",
     "text": [
      "G :  [(0, 1), (0, 3), (1, 2), (2, 3)]\n",
      "Removed vertex in this step :  0\n",
      "Removed vertex in this step :  2\n",
      "Minimum vertex Cover is :  {0, 2}\n"
     ]
    }
   ],
   "source": [
    "try:\n",
    "    graph = nx.Graph()\n",
    "    graph.add_edges_from([(0,1),(1,2),(2,3),(3,0)])\n",
    "    print(\"G : \", graph.edges())\n",
    "    v = using_counter(graph)\n",
    "    print(\"Minimum vertex Cover is : \", v)\n",
    "except:\n",
    "    print(\"Error\")"
   ]
  },
  {
   "cell_type": "code",
   "execution_count": 9,
   "metadata": {},
   "outputs": [
    {
     "name": "stdout",
     "output_type": "stream",
     "text": [
      "Approach2 is better in 100 cases of 100\n"
     ]
    }
   ],
   "source": [
    "results = []\n",
    "for i in range(100):\n",
    "    try:\n",
    "        D = nx.gn_graph(random.randint(10,1000))\n",
    "        graph = D.to_undirected()\n",
    "        v1 = minimum_vertex_cover(graph, False)\n",
    "        v2 = using_counter(graph, False)\n",
    "        results.append((len(v1), len(v2)))\n",
    "    except:\n",
    "        results.append((-1,-1))\n",
    "res = [1 if((e2<e1) and (e1 != -1) and (e2 != -1)) else 0 for e1, e2 in results]\n",
    "print(f\"Approach2 is better in {res.count(1)} cases of {res.count(1) + res.count(0)}\")"
   ]
  },
  {
   "cell_type": "code",
   "execution_count": 10,
   "metadata": {},
   "outputs": [
    {
     "name": "stdout",
     "output_type": "stream",
     "text": [
      "G :  [(10, 2), (10, 3), (10, 4), (10, 11), (11, 5), (11, 6), (11, 7)]\n",
      "----------Approach1---------------------------\n",
      "Edge from this step is  (10, 2)\n",
      "Edge from this step is  (11, 5)\n",
      "----------Approach2---------------------------\n",
      "Removed vertex in this step :  10\n",
      "Removed vertex in this step :  11\n",
      "----------END OF EXECUTION--------------------\n",
      "Results1 :  {11, 10, 2, 5}\n",
      "Results2 :  {10, 11}\n"
     ]
    }
   ],
   "source": [
    "try:\n",
    "    graph = nx.Graph()\n",
    "    graph.add_edges_from([(10,2),(10,3),(10,4),(11,5),(10,11),(11,6),(11,7)])\n",
    "    print(\"G : \", graph.edges())\n",
    "    print(\"----------Approach1---------------------------\")\n",
    "    v1 = minimum_vertex_cover(graph)\n",
    "    print(\"----------Approach2---------------------------\")\n",
    "    v2 = using_counter(graph, True)\n",
    "    print(\"----------END OF EXECUTION--------------------\")\n",
    "    print(\"Results1 : \", v1)\n",
    "    print(\"Results2 : \", v2)\n",
    "except:\n",
    "    print(\"Error\")"
   ]
  },
  {
   "cell_type": "code",
   "execution_count": 11,
   "metadata": {},
   "outputs": [
    {
     "name": "stdout",
     "output_type": "stream",
     "text": [
      "G :  [(0, 1), (2, 3), (4, 5)]\n",
      "----------Approach1---------------------------\n",
      "Edge from this step is  (0, 1)\n",
      "Edge from this step is  (2, 3)\n",
      "Edge from this step is  (4, 5)\n",
      "----------Approach2---------------------------\n",
      "Removed vertex in this step :  0\n",
      "Removed vertex in this step :  2\n",
      "Removed vertex in this step :  4\n",
      "----------END OF EXECUTION--------------------\n",
      "Results1 :  {0, 1, 2, 3, 4, 5}\n",
      "Results2 :  {0, 2, 4}\n"
     ]
    }
   ],
   "source": [
    "try:\n",
    "    graph = nx.Graph()\n",
    "    graph.add_edges_from([(0,1),(2,3),(4,5)])\n",
    "    print(\"G : \", graph.edges())\n",
    "    print(\"----------Approach1---------------------------\")\n",
    "    v1 = minimum_vertex_cover(graph)\n",
    "    print(\"----------Approach2---------------------------\")\n",
    "    v2 = using_counter(graph, True)\n",
    "    print(\"----------END OF EXECUTION--------------------\")\n",
    "    print(\"Results1 : \", v1)\n",
    "    print(\"Results2 : \", v2)\n",
    "except:\n",
    "    print(\"Error\")"
   ]
  },
  {
   "cell_type": "code",
   "execution_count": 12,
   "metadata": {},
   "outputs": [
    {
     "name": "stdout",
     "output_type": "stream",
     "text": [
      "G :  [(0, 1), (0, 2), (0, 3), (0, 4), (1, 5), (1, 6), (2, 7), (2, 8), (3, 9), (3, 10), (4, 11), (4, 12)]\n",
      "----------Approach1---------------------------\n",
      "Edge from this step is  (0, 1)\n",
      "Edge from this step is  (2, 7)\n",
      "Edge from this step is  (3, 9)\n",
      "Edge from this step is  (4, 11)\n",
      "----------Approach2---------------------------\n",
      "Removed vertex in this step :  0\n",
      "Removed vertex in this step :  1\n",
      "Removed vertex in this step :  2\n",
      "Removed vertex in this step :  3\n",
      "Removed vertex in this step :  4\n",
      "----------END OF EXECUTION--------------------\n",
      "Results1 :  {0, 1, 2, 3, 4, 7, 9, 11}\n",
      "Results2 :  {0, 1, 2, 3, 4}\n"
     ]
    }
   ],
   "source": [
    "try:\n",
    "    graph = nx.Graph()\n",
    "    graph.add_edges_from([(0,1),(0,2),(0,3),(0,4),(1,5),(1,6),(2,7),(2,8),(3,9),(3,10),(4,11),(4,12)])\n",
    "    print(\"G : \", graph.edges())\n",
    "    print(\"----------Approach1---------------------------\")\n",
    "    v1 = minimum_vertex_cover(graph)\n",
    "    print(\"----------Approach2---------------------------\")\n",
    "    v2 = using_counter(graph, True)\n",
    "    print(\"----------END OF EXECUTION--------------------\")\n",
    "    print(\"Results1 : \", v1)\n",
    "    print(\"Results2 : \", v2)\n",
    "except:\n",
    "    print(\"Error\")"
   ]
  }
 ],
 "metadata": {
  "kernelspec": {
   "display_name": "Python 3",
   "language": "python",
   "name": "python3"
  },
  "language_info": {
   "codemirror_mode": {
    "name": "ipython",
    "version": 3
   },
   "file_extension": ".py",
   "mimetype": "text/x-python",
   "name": "python",
   "nbconvert_exporter": "python",
   "pygments_lexer": "ipython3",
   "version": "3.7.3"
  }
 },
 "nbformat": 4,
 "nbformat_minor": 2
}
