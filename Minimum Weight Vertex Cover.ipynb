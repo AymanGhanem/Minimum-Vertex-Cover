{
 "cells": [
  {
   "cell_type": "code",
   "execution_count": 1,
   "metadata": {},
   "outputs": [],
   "source": [
    "import networkx as nx\n",
    "import random\n",
    "import pulp as p\n",
    "def generate_undirected_weighted_vertices(num_vertices, num_edges, weight_min= 1, weight_max= 100):\n",
    "    if(num_edges > ((num_vertices*(num_vertices-1))/2)):\n",
    "        print(\"The number of edges exceeds the maximum limit.\")\n",
    "        return None, f\"The number of edges ({num_edges}) exceeds the maximum limit ({((num_vertices*(num_vertices-1))/2)}).\"\n",
    "    graph = nx.Graph()\n",
    "    for vertex in range(num_vertices):\n",
    "        weight = random.randint(weight_min, weight_max)\n",
    "        graph.add_node(vertex, weight=weight)\n",
    "    while(len(graph.edges()) < num_edges):\n",
    "        source = random.randint(0, num_vertices-1)\n",
    "        destination = random.randint(0, num_vertices-1)\n",
    "        if(source != destination):\n",
    "            graph.add_edge(source, destination)   \n",
    "    return graph, None\n",
    "\n",
    "\n",
    "def linear_programming(graph):\n",
    "    Lp_prob = p.LpProblem('Problem', p.LpMinimize)\n",
    "    variables = [None for _ in graph.nodes]\n",
    "    for vertex in graph.nodes:\n",
    "        variables[vertex] = p.LpVariable(\"x\"+str(vertex), lowBound = 0)\n",
    "\n",
    "    objective_function = \"\"\n",
    "    for index, variable in enumerate(variables):\n",
    "        objective_function +=  graph.nodes[index]['weight'] * variable\n",
    "    Lp_prob += objective_function\n",
    "\n",
    "    for variable in variables:\n",
    "        Lp_prob += variable <= 1\n",
    "\n",
    "    for edge in graph.edges:\n",
    "        source = edge[0]\n",
    "        destination = edge[1]\n",
    "        condition = \"\" + variables[source] + variables[destination]  >= 1\n",
    "        Lp_prob += condition\n",
    "\n",
    "    status = Lp_prob.solve()\n",
    "    solution_status = p.LpStatus[status]\n",
    "\n",
    "    # Printing the final solution\n",
    "    array_result = []\n",
    "    for index, variable in enumerate(variables):\n",
    "        if(p.value(variable) >= 0.5):\n",
    "            array_result.append(index)\n",
    "    \n",
    "    return Lp_prob, p.value(Lp_prob.objective), array_result "
   ]
  },
  {
   "cell_type": "code",
   "execution_count": 2,
   "metadata": {},
   "outputs": [],
   "source": [
    "graph = nx.Graph()\n",
    "weights = [2,0,1,4]\n",
    "nodes = [0,1,2,3]\n",
    "edges = [(0,2),(1,0),(3,0),(3,1)]\n",
    "for index, i in enumerate(nodes):\n",
    "    graph.add_node(i, weight= weights[index])\n",
    "graph.add_edges_from(edges)\n",
    "problem, result_value, vertices = linear_programming(graph)"
   ]
  },
  {
   "cell_type": "code",
   "execution_count": 3,
   "metadata": {},
   "outputs": [
    {
     "name": "stdout",
     "output_type": "stream",
     "text": [
      "The problem description is : \n",
      "Problem:\n",
      "MINIMIZE\n",
      "2*x0 + 1*x2 + 4*x3 + 0\n",
      "SUBJECT TO\n",
      "_C1: x0 <= 1\n",
      "\n",
      "_C2: x1 <= 1\n",
      "\n",
      "_C3: x2 <= 1\n",
      "\n",
      "_C4: x3 <= 1\n",
      "\n",
      "_C5: x0 + x2 >= 1\n",
      "\n",
      "_C6: x0 + x1 >= 1\n",
      "\n",
      "_C7: x0 + x3 >= 1\n",
      "\n",
      "_C8: x1 + x3 >= 1\n",
      "\n",
      "VARIABLES\n",
      "x0 Continuous\n",
      "x1 Continuous\n",
      "x2 Continuous\n",
      "x3 Continuous\n",
      "\n",
      "The results is [0, 1] with value of 2.0.\n"
     ]
    }
   ],
   "source": [
    "print(\"The problem description is : \")\n",
    "print(problem)\n",
    "print(f\"The results is {vertices} with value of {result_value}.\")"
   ]
  }
 ],
 "metadata": {
  "kernelspec": {
   "display_name": "Python 3",
   "language": "python",
   "name": "python3"
  },
  "language_info": {
   "codemirror_mode": {
    "name": "ipython",
    "version": 3
   },
   "file_extension": ".py",
   "mimetype": "text/x-python",
   "name": "python",
   "nbconvert_exporter": "python",
   "pygments_lexer": "ipython3",
   "version": "3.7.3"
  }
 },
 "nbformat": 4,
 "nbformat_minor": 2
}
